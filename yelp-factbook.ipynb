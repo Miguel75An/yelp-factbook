{
 "cells": [
  {
   "cell_type": "code",
   "execution_count": 1,
   "metadata": {},
   "outputs": [],
   "source": [
    "# Declare all path to the dataset\n",
    "REVIEW_FN = './dataset/yelp_review.csv'"
   ]
  },
  {
   "cell_type": "code",
   "execution_count": 2,
   "metadata": {},
   "outputs": [
    {
     "name": "stdout",
     "output_type": "stream",
     "text": [
      "total 18219848\r\n",
      "drwxr-xr-x  12 ichwan  staff   384B May  7 19:01 \u001b[36m.\u001b[m\u001b[m\r\n",
      "drwxr-xr-x  21 ichwan  staff   672B May  8 15:09 \u001b[36m..\u001b[m\u001b[m\r\n",
      "-rw-r--r--   1 ichwan  staff   3.5G May  7 18:31 new_yelp_review.csv\r\n",
      "-rw-r--r--   1 ichwan  staff    48K May  7 18:51 new_yelp_review_subset.csv\r\n",
      "-rwxr-xr-x   1 ichwan  staff    30M Feb  6 23:57 \u001b[31myelp_business.csv\u001b[m\u001b[m\r\n",
      "-rwxr-xr-x   1 ichwan  staff    39M Feb  7 00:02 \u001b[31myelp_business_attributes.csv\u001b[m\u001b[m\r\n",
      "-rwxr-xr-x   1 ichwan  staff    13M Feb  6 23:59 \u001b[31myelp_business_hours.csv\u001b[m\u001b[m\r\n",
      "-rwxr-xr-x   1 ichwan  staff   130M Feb  6 23:57 \u001b[31myelp_checkin.csv\u001b[m\u001b[m\r\n",
      "-rwxr-xr-x@  1 ichwan  staff   3.5G Feb  7 00:02 \u001b[31myelp_review.csv\u001b[m\u001b[m\r\n",
      "-rw-r--r--   1 ichwan  staff    48K May  6 23:44 yelp_review_subset.csv\r\n",
      "-rwxr-xr-x   1 ichwan  staff   141M Feb  7 00:02 \u001b[31myelp_tip.csv\u001b[m\u001b[m\r\n",
      "-rwxr-xr-x   1 ichwan  staff   1.3G Feb  6 23:59 \u001b[31myelp_user.csv\u001b[m\u001b[m\r\n"
     ]
    }
   ],
   "source": [
    "!ls -alh dataset/"
   ]
  },
  {
   "cell_type": "code",
   "execution_count": 3,
   "metadata": {},
   "outputs": [],
   "source": [
    "def extractRow(index, lines):\n",
    "    import csv\n",
    "    if index == 0:\n",
    "        lines.next()\n",
    "        \n",
    "    reader = csv.reader(lines)\n",
    "    for row in reader:\n",
    "        yield row"
   ]
  },
  {
   "cell_type": "code",
   "execution_count": 4,
   "metadata": {},
   "outputs": [
    {
     "data": {
      "text/plain": [
       "113"
      ]
     },
     "execution_count": 4,
     "metadata": {},
     "output_type": "execute_result"
    }
   ],
   "source": [
    "reviews_rdd = sc.textFile(REVIEW_FN, use_unicode=False)\n",
    "reviews_rdd.getNumPartitions()"
   ]
  },
  {
   "cell_type": "code",
   "execution_count": 5,
   "metadata": {},
   "outputs": [
    {
     "data": {
      "text/plain": [
       "[['vkVSCC7xljjrAI4UGfnKEQ',\n",
       "  'bv2nCi5Qv5vroFiqKGopiw',\n",
       "  'AEx2SYEUJmTxVVB18LlCwA',\n",
       "  '5',\n",
       "  '2016-05-28',\n",
       "  \"Super simple place but amazing nonetheless. It's been around since the 30's and they still serve the same thing they started with: a bologna and salami sandwich with mustard. Staff was very helpful and friendly.\",\n",
       "  '0',\n",
       "  '0',\n",
       "  '0'],\n",
       " ['n6QzIUObkYshz4dz2QRJTw',\n",
       "  'bv2nCi5Qv5vroFiqKGopiw',\n",
       "  'VR6GpWIda3SfvPC-lg9H3w',\n",
       "  '5',\n",
       "  '2016-05-28',\n",
       "  \"Small unassuming place that changes their menu every so often. Cool decor and vibe inside their 30 seat restaurant. Call for a reservation. We had their beef tartar and pork belly to start and a salmon dish and lamb meal for mains. Everything was incredible! I could go on at length about how all the listed ingredients really make their dishes amazing but honestly you just need to go. A bit outside of downtown montreal but take the metro out and it's less than a 10 minute walk from the station.\",\n",
       "  '0',\n",
       "  '0',\n",
       "  '0'],\n",
       " ['MV3CcKScW05u5LVfF6ok0g',\n",
       "  'bv2nCi5Qv5vroFiqKGopiw',\n",
       "  'CKC0-MOWMqoeWf6s-szl8g',\n",
       "  '5',\n",
       "  '2016-05-28',\n",
       "  \"Lester's is located in a beautiful neighborhood and has been there since 1951. They are known for smoked meat which most deli's have but their brisket sandwich is what I come to montreal for. They've got about 12 seats outside to go along with the inside. The smoked meat is up there in quality and taste with Schwartz's and you'll find less tourists at Lester's as well.\",\n",
       "  '0',\n",
       "  '0',\n",
       "  '0'],\n",
       " ['IXvOzsEMYtiJI0CARmj77Q',\n",
       "  'bv2nCi5Qv5vroFiqKGopiw',\n",
       "  'ACFtxLv8pGrrxMm6EgjreA',\n",
       "  '4',\n",
       "  '2016-05-28',\n",
       "  \"Love coming here. Yes the place always needs the floor swept but when you give out  peanuts in the shell how won't it always be a bit dirty. The food speaks for itself, so good. Burgers are made to order and the meat is put on the grill when you order your sandwich. Getting the small burger just means 1 patty, the regular is a 2 patty burger which is twice the deliciousness. Getting the Cajun fries adds a bit of spice to them and whatever size you order they always throw more fries (a lot more fries) into the bag.\",\n",
       "  '0',\n",
       "  '0',\n",
       "  '0'],\n",
       " ['L_9BTb55X0GDtThi6GlZ6w',\n",
       "  'bv2nCi5Qv5vroFiqKGopiw',\n",
       "  's2I_Ni76bjJNK9yG60iD-Q',\n",
       "  '4',\n",
       "  '2016-05-28',\n",
       "  \"Had their chocolate almond croissant and it was amazing! So light and buttery and oh my how chocolaty.If you're looking for a light breakfast then head out here. Perfect spot for a coffee\\\\/latt\\xc3\\xa9 before heading out to the old port\",\n",
       "  '0',\n",
       "  '0',\n",
       "  '0']]"
      ]
     },
     "execution_count": 5,
     "metadata": {},
     "output_type": "execute_result"
    }
   ],
   "source": [
    "reviews_rdd_new = reviews_rdd.mapPartitionsWithIndex(extractRow).cache()\n",
    "reviews_rdd_new.take(5)"
   ]
  },
  {
   "cell_type": "code",
   "execution_count": 7,
   "metadata": {},
   "outputs": [
    {
     "name": "stdout",
     "output_type": "stream",
     "text": [
      "5261669\n"
     ]
    }
   ],
   "source": [
    "def countRow(filename):\n",
    "    import csv\n",
    "    count = 0\n",
    "    with open(filename, 'rb') as fi:\n",
    "        reader = csv.reader(fi)\n",
    "        \n",
    "        for row in reader:\n",
    "            count += 1\n",
    "        \n",
    "    print count\n",
    "\n",
    "countRow(REVIEW_FN)"
   ]
  }
 ],
 "metadata": {
  "kernelspec": {
   "display_name": "Python 2",
   "language": "python",
   "name": "python2"
  },
  "language_info": {
   "codemirror_mode": {
    "name": "ipython",
    "version": 2
   },
   "file_extension": ".py",
   "mimetype": "text/x-python",
   "name": "python",
   "nbconvert_exporter": "python",
   "pygments_lexer": "ipython2",
   "version": "2.7.14"
  }
 },
 "nbformat": 4,
 "nbformat_minor": 2
}
