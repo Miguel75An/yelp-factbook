{
 "cells": [
  {
   "cell_type": "code",
   "execution_count": 1,
   "metadata": {},
   "outputs": [
    {
     "data": {
      "text/plain": [
       "<pyspark.context.SparkContext at 0x8f499e8>"
      ]
     },
     "execution_count": 1,
     "metadata": {},
     "output_type": "execute_result"
    }
   ],
   "source": [
    "sc"
   ]
  },
  {
   "cell_type": "code",
   "execution_count": 2,
   "metadata": {
    "collapsed": true
   },
   "outputs": [],
   "source": [
    "df = spark.read.load('yelp_review.csv', \n",
    "                     format='csv', \n",
    "                     header=True, \n",
    "                     inferSchema=True).cache()"
   ]
  },
  {
   "cell_type": "code",
   "execution_count": 3,
   "metadata": {},
   "outputs": [
    {
     "name": "stdout",
     "output_type": "stream",
     "text": [
      "+--------------------+--------------------+--------------------+-----+----------+--------------------+------+-----+----+\n",
      "|           review_id|             user_id|         business_id|stars|      date|                text|useful|funny|cool|\n",
      "+--------------------+--------------------+--------------------+-----+----------+--------------------+------+-----+----+\n",
      "|vkVSCC7xljjrAI4UG...|bv2nCi5Qv5vroFiqK...|AEx2SYEUJmTxVVB18...|    5|2016-05-28|Super simple plac...|  null| null|null|\n",
      "|Staff was very he...|                   0|                   0|    0|      null|                null|  null| null|null|\n",
      "|n6QzIUObkYshz4dz2...|bv2nCi5Qv5vroFiqK...|VR6GpWIda3SfvPC-l...|    5|2016-05-28|Small unassuming ...|  null| null|null|\n",
      "|We had their beef...|                null|                null| null|      null|                null|  null| null|null|\n",
      "|A bit outside of ...|                   0|                   0|    0|      null|                null|  null| null|null|\n",
      "+--------------------+--------------------+--------------------+-----+----------+--------------------+------+-----+----+\n",
      "only showing top 5 rows\n",
      "\n"
     ]
    }
   ],
   "source": [
    "df.show(5)"
   ]
  },
  {
   "cell_type": "code",
   "execution_count": 4,
   "metadata": {},
   "outputs": [
    {
     "name": "stdout",
     "output_type": "stream",
     "text": [
      "+--------------------+-----+\n",
      "|             user_id|count|\n",
      "+--------------------+-----+\n",
      "| so we decided to...|    1|\n",
      "| it was quite exp...|    1|\n",
      "| but crowds aren'...|    1|\n",
      "| quick and attent...|    1|\n",
      "| pine nuts and a ...|    1|\n",
      "| but the issue se...|    1|\n",
      "| they also have s...|    1|\n",
      "| so if you don't ...|    1|\n",
      "| and I'm not talk...|    1|\n",
      "| banana and butte...|    1|\n",
      "| the evening took...|    1|\n",
      "| nous et un autre...|    1|\n",
      "| but since I was ...|    1|\n",
      "| qui chill encore...|    1|\n",
      "| il n'y a pas d'a...|    1|\n",
      "| we had to listen...|    1|\n",
      "| I will 'convince...|    1|\n",
      "| I have no compla...|    1|\n",
      "|      love & tacos!\"|    1|\n",
      "|           the salty|    4|\n",
      "+--------------------+-----+\n",
      "only showing top 20 rows\n",
      "\n"
     ]
    }
   ],
   "source": [
    "df = df.groupBy('user_id').count()\n",
    "df.show()"
   ]
  },
  {
   "cell_type": "code",
   "execution_count": 5,
   "metadata": {
    "collapsed": true
   },
   "outputs": [],
   "source": [
    "#WORKS BUT WRONG NUMBER OF ROWS"
   ]
  },
  {
   "cell_type": "code",
   "execution_count": null,
   "metadata": {
    "collapsed": true
   },
   "outputs": [],
   "source": []
  }
 ],
 "metadata": {
  "kernelspec": {
   "display_name": "Python 2",
   "language": "python",
   "name": "python2"
  },
  "language_info": {
   "codemirror_mode": {
    "name": "ipython",
    "version": 2
   },
   "file_extension": ".py",
   "mimetype": "text/x-python",
   "name": "python",
   "nbconvert_exporter": "python",
   "pygments_lexer": "ipython2",
   "version": "2.7.14"
  }
 },
 "nbformat": 4,
 "nbformat_minor": 2
}
