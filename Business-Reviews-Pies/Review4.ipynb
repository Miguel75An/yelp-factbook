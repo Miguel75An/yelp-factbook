{
 "cells": [
  {
   "cell_type": "code",
   "execution_count": 43,
   "metadata": {},
   "outputs": [
    {
     "data": {
      "text/plain": [
       "<pyspark.context.SparkContext at 0x91569e8>"
      ]
     },
     "execution_count": 43,
     "metadata": {},
     "output_type": "execute_result"
    }
   ],
   "source": [
    "sc"
   ]
  },
  {
   "cell_type": "code",
   "execution_count": 44,
   "metadata": {
    "collapsed": true
   },
   "outputs": [],
   "source": [
    "def extractRow(index, lines):\n",
    "    import csv\n",
    "    if index == 0:\n",
    "        lines.next()\n",
    "        \n",
    "    reader = csv.reader(lines)\n",
    "    for row in reader:\n",
    "        if len(row) == 9:\n",
    "            yield row"
   ]
  },
  {
   "cell_type": "code",
   "execution_count": 45,
   "metadata": {},
   "outputs": [
    {
     "data": {
      "text/plain": [
       "[['vkVSCC7xljjrAI4UGfnKEQ',\n",
       "  'bv2nCi5Qv5vroFiqKGopiw',\n",
       "  'AEx2SYEUJmTxVVB18LlCwA',\n",
       "  '5',\n",
       "  '2016-05-28',\n",
       "  \"Super simple place but amazing nonetheless. It's been around since the 30's and they still serve the same thing they started with: a bologna and salami sandwich with mustard. Staff was very helpful and friendly.\",\n",
       "  '0',\n",
       "  '0',\n",
       "  '0']]"
      ]
     },
     "execution_count": 45,
     "metadata": {},
     "output_type": "execute_result"
    }
   ],
   "source": [
    "rdd = sc.textFile(\"yelp_review.csv\", use_unicode=False)\n",
    "\n",
    "rdd2 = rdd.mapPartitionsWithIndex(extractRow)\n",
    "\n",
    "rdd2.take(1)"
   ]
  },
  {
   "cell_type": "code",
   "execution_count": 46,
   "metadata": {},
   "outputs": [
    {
     "data": {
      "text/plain": [
       "[['vkVSCC7xljjrAI4UGfnKEQ',\n",
       "  'bv2nCi5Qv5vroFiqKGopiw',\n",
       "  'AEx2SYEUJmTxVVB18LlCwA',\n",
       "  '5',\n",
       "  '2016-05-28',\n",
       "  \"Super simple place but amazing nonetheless. It's been around since the 30's and they still serve the same thing they started with: a bologna and salami sandwich with mustard. Staff was very helpful and friendly.\",\n",
       "  '0',\n",
       "  '0',\n",
       "  '0'],\n",
       " ['n6QzIUObkYshz4dz2QRJTw',\n",
       "  'bv2nCi5Qv5vroFiqKGopiw',\n",
       "  'VR6GpWIda3SfvPC-lg9H3w',\n",
       "  '5',\n",
       "  '2016-05-28',\n",
       "  \"Small unassuming place that changes their menu every so often. Cool decor and vibe inside their 30 seat restaurant. Call for a reservation. We had their beef tartar and pork belly to start and a salmon dish and lamb meal for mains. Everything was incredible! I could go on at length about how all the listed ingredients really make their dishes amazing but honestly you just need to go. A bit outside of downtown montreal but take the metro out and it's less than a 10 minute walk from the station.\",\n",
       "  '0',\n",
       "  '0',\n",
       "  '0']]"
      ]
     },
     "execution_count": 46,
     "metadata": {},
     "output_type": "execute_result"
    }
   ],
   "source": [
    "rdd3 = rdd2.map(lambda x: [x[0],x[1],x[2],x[3],x[4],x[5],x[6],x[7],x[8]])\n",
    "#rdd3 = rdd2.map(lambda x: (x[0],x[1],x[2],x[3],x[4],x[5],x[6],x[7],x[8]))\n",
    "rdd3.take(2)"
   ]
  },
  {
   "cell_type": "code",
   "execution_count": 47,
   "metadata": {},
   "outputs": [
    {
     "data": {
      "text/plain": [
       "[['vkVSCC7xljjrAI4UGfnKEQ',\n",
       "  'bv2nCi5Qv5vroFiqKGopiw',\n",
       "  'AEx2SYEUJmTxVVB18LlCwA',\n",
       "  '5',\n",
       "  '2016-05-28',\n",
       "  \"Super simple place but amazing nonetheless. It's been around since the 30's and they still serve the same thing they started with: a bologna and salami sandwich with mustard. Staff was very helpful and friendly.\",\n",
       "  '0',\n",
       "  '0',\n",
       "  '0']]"
      ]
     },
     "execution_count": 47,
     "metadata": {},
     "output_type": "execute_result"
    }
   ],
   "source": [
    "rdd4 = rdd3.filter(lambda row: (row != None))\n",
    "rdd4.take(1)"
   ]
  },
  {
   "cell_type": "code",
   "execution_count": null,
   "metadata": {
    "collapsed": true
   },
   "outputs": [],
   "source": []
  },
  {
   "cell_type": "code",
   "execution_count": 49,
   "metadata": {},
   "outputs": [
    {
     "data": {
      "text/plain": [
       "[('AEx2SYEUJmTxVVB18LlCwA', 1),\n",
       " ('VR6GpWIda3SfvPC-lg9H3w', 1),\n",
       " ('CKC0-MOWMqoeWf6s-szl8g', 1),\n",
       " ('ACFtxLv8pGrrxMm6EgjreA', 1),\n",
       " ('s2I_Ni76bjJNK9yG60iD-Q', 1)]"
      ]
     },
     "execution_count": 49,
     "metadata": {},
     "output_type": "execute_result"
    }
   ],
   "source": [
    "rdd5 = rdd4.map(lambda row: (row[2],1)) #works for row[1]\n",
    "rdd5.take(5)"
   ]
  },
  {
   "cell_type": "code",
   "execution_count": 50,
   "metadata": {},
   "outputs": [
    {
     "data": {
      "text/plain": [
       "[('Q39lkuSwfg-7CblOixLQDA', 51),\n",
       " ('rbDqCV2g23K3ZrTxmgoNBg', 141),\n",
       " ('h_-KUSA612pFEIGC_dCsKQ', 46),\n",
       " ('8mSLR5vjM1vnNXb6E6t1og', 7),\n",
       " ('dFA7C1lCg-FZvn15Q8nZYg', 13)]"
      ]
     },
     "execution_count": 50,
     "metadata": {},
     "output_type": "execute_result"
    }
   ],
   "source": [
    "from operator import add\n",
    "#rdd6 = rdd5.reduceByKey(lambda x,y: x+y)\n",
    "rdd6 = rdd5.reduceByKey(add)\n",
    "rdd6.take(5)"
   ]
  },
  {
   "cell_type": "code",
   "execution_count": 54,
   "metadata": {
    "collapsed": true
   },
   "outputs": [],
   "source": [
    "# Create the schema necessary for the creation of a DataFrame\n",
    "from pyspark.sql.types import *\n",
    "schema = StructType([\n",
    "    StructField(\"review_id\", StringType(), False), \n",
    "    StructField(\"user_id\", StringType(), False)])"
   ]
  },
  {
   "cell_type": "code",
   "execution_count": 55,
   "metadata": {},
   "outputs": [
    {
     "name": "stdout",
     "output_type": "stream",
     "text": [
      "+--------------------+-------+\n",
      "|           review_id|user_id|\n",
      "+--------------------+-------+\n",
      "|Q39lkuSwfg-7CblOi...|     51|\n",
      "|rbDqCV2g23K3ZrTxm...|    141|\n",
      "|h_-KUSA612pFEIGC_...|     46|\n",
      "|8mSLR5vjM1vnNXb6E...|      7|\n",
      "+--------------------+-------+\n",
      "only showing top 4 rows\n",
      "\n"
     ]
    }
   ],
   "source": [
    "df = sqlContext.createDataFrame(rdd6, schema)\n",
    "df.show(4)"
   ]
  },
  {
   "cell_type": "code",
   "execution_count": 56,
   "metadata": {},
   "outputs": [
    {
     "name": "stdout",
     "output_type": "stream",
     "text": [
      "174567\n"
     ]
    }
   ],
   "source": [
    "print(df.count())"
   ]
  },
  {
   "cell_type": "code",
   "execution_count": null,
   "metadata": {
    "collapsed": true
   },
   "outputs": [],
   "source": []
  },
  {
   "cell_type": "code",
   "execution_count": null,
   "metadata": {
    "collapsed": true
   },
   "outputs": [],
   "source": [
    "#!/usr/bin/env python\n",
    "'''\n",
    "Color parts of a line based on its properties, e.g., slope.\n",
    "'''\n",
    "import numpy as np\n",
    "import matplotlib.pyplot as plt\n",
    "from matplotlib.collections import LineCollection\n",
    "from matplotlib.colors import ListedColormap, BoundaryNorm\n",
    "\n",
    "x = np.linspace(0, 3 * np.pi, 500)\n",
    "y = np.sin(x)\n",
    "z = np.cos(0.5 * (x[:-1] + x[1:]))  # first derivative\n",
    "\n",
    "# Create a colormap for red, green and blue and a norm to color\n",
    "# f' < -0.5 red, f' > 0.5 blue, and the rest green\n",
    "cmap = ListedColormap(['r', 'g', 'b'])\n",
    "norm = BoundaryNorm([-1, -0.5, 0.5, 1], cmap.N)\n",
    "\n",
    "# Create a set of line segments so that we can color them individually\n",
    "# This creates the points as a N x 1 x 2 array so that we can stack points\n",
    "# together easily to get the segments. The segments array for line collection\n",
    "# needs to be numlines x points per line x 2 (x and y)\n",
    "points = np.array([x, y]).T.reshape(-1, 1, 2)\n",
    "segments = np.concatenate([points[:-1], points[1:]], axis=1)\n",
    "\n",
    "# Create the line collection object, setting the colormapping parameters.\n",
    "# Have to set the actual values used for colormapping separately.\n",
    "lc = LineCollection(segments, cmap=cmap, norm=norm)\n",
    "lc.set_array(z)\n",
    "lc.set_linewidth(3)\n",
    "plt.gca().add_collection(lc)\n",
    "\n",
    "plt.xlim(x.min(), x.max())\n",
    "plt.ylim(-1.1, 1.1)\n",
    "plt.show()"
   ]
  },
  {
   "cell_type": "code",
   "execution_count": null,
   "metadata": {
    "collapsed": true
   },
   "outputs": [],
   "source": []
  }
 ],
 "metadata": {
  "kernelspec": {
   "display_name": "Python 2",
   "language": "python",
   "name": "python2"
  },
  "language_info": {
   "codemirror_mode": {
    "name": "ipython",
    "version": 2
   },
   "file_extension": ".py",
   "mimetype": "text/x-python",
   "name": "python",
   "nbconvert_exporter": "python",
   "pygments_lexer": "ipython2",
   "version": "2.7.14"
  }
 },
 "nbformat": 4,
 "nbformat_minor": 2
}
